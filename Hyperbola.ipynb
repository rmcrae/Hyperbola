{
 "cells": [
  {
   "cell_type": "markdown",
   "id": "2b363258",
   "metadata": {},
   "source": [
    "# The Rectangular Hyperbola\n",
    "\n",
    "This is the curve that brought us, eventually, the natural logarithm and the exponential function."
   ]
  },
  {
   "cell_type": "code",
   "execution_count": 129,
   "id": "04d7db6c",
   "metadata": {},
   "outputs": [],
   "source": [
    "%matplotlib inline\n",
    "from pylab import *\n"
   ]
  },
  {
   "cell_type": "code",
   "execution_count": 130,
   "id": "f2515082",
   "metadata": {},
   "outputs": [
    {
     "data": {
      "text/html": [
       "<style>\n",
       "div.input {\n",
       "    display:none;\n",
       "}\n",
       "</style>\n"
      ],
      "text/plain": [
       "<IPython.core.display.HTML object>"
      ]
     },
     "metadata": {},
     "output_type": "display_data"
    }
   ],
   "source": [
    "%%html\n",
    "<style>\n",
    "div.input {\n",
    "    display:none;\n",
    "}\n",
    "</style>"
   ]
  },
  {
   "cell_type": "code",
   "execution_count": 131,
   "id": "0072c9d3",
   "metadata": {},
   "outputs": [
    {
     "data": {
      "image/png": "[encoded data removed]",
      "text/plain": [
       "<Figure size 432x288 with 1 Axes>"
      ]
     },
     "metadata": {},
     "output_type": "display_data"
    }
   ],
   "source": [
    "# make hyperbola top curve\n",
    "\n",
    "start = 0.1\n",
    "end = 10\n",
    "\n",
    "xpos = linspace(start, end, 200)\n",
    "xneg = linspace(-end, -start, 200)\n",
    "\n",
    "plot(xpos, 1/xpos,'b-')\n",
    "plot(xneg, 1/xneg, 'b-')\n",
    "\n",
    "ax = gca()\n",
    "\n",
    "# force equal aspect ratio, remove spines and ticks\n",
    "ax.set_aspect('equal', adjustable='box')\n",
    "ax.axes.xaxis.set_ticks([])\n",
    "ax.axes.yaxis.set_ticks([])\n",
    "for item in ax.spines.values():\n",
    "    item.set_visible(False)"
   ]
  },
  {
   "cell_type": "markdown",
   "id": "b24746e8",
   "metadata": {},
   "source": [
    "## Old logarithms\n",
    "\n",
    "Logarithms were first introduced by the Scottish nobleman John Napier, 8th Baron of Merchiston, in his 1614 book, *Mirifici logarithorum canonis descriptio* (\"Description of the Wonderful Canon of Loagarithms\"), although apparently his first choice for naming these new numbers was \"artificial numbers\" instead of \"logarithms\".  (I'm tempted to suggest that he wanted to call them \"numbers, what are they good for?\" as an historically inaccurate *Seinfeld* reference...).  After this book was translated into English in 1614, a fellow mathematician Henry Briggs published *Arithmetica Logarithmica* in 1624, which contained the first logarithmic tables (and a better description of the idea).\n",
    "\n",
    "But, from the perspective of a person with a (somewhat) modern math education, and knowing the usual integral definition of the natural logartihm ($\\ln x = \\int_1^x \\frac{dy}{y}$), it is natural to wonder how these ideas came about well before the invention of calculus by Newton and Leibnitz, or its application by people like Euler.\n",
    "\n",
    "In the works of Napier and Briggs, there are, of course, no integrals.  Neither is there any mention of a 'base', *per se*.  Here is the opening line of Briggs' book:  \"Logarithms are numbers which, adjoined to numbers in proportion, maintain equal differences.\"  The idea is to associate with a sequence of numbers (say $\\alpha$, $\\beta$, $\\gamma$, $\\delta$, ...) that are in \"continuous proportion\" (*i.e.* $\\frac{\\alpha}{\\beta} = \\frac{\\beta}{\\gamma} = \\frac{\\gamma}{\\delta}=...$) a second sequence of *logarithmic* numbers ($\\alpha'$, $\\beta'$, $\\gamma'$, $\\delta'$, ...) that maintain a constant difference ($\\alpha' - \\beta' = \\beta' - \\gamma' = \\gamma' - \\delta' = ...$).  Briggs included an example table in his book:\n",
    "\n",
    "|   |A | B | C | D |\n",
    "| --- | --- | --- | --- | --- |\n",
    "| 1 | 1 | 5 | 5 | 35 |\n",
    "| 2 | 2 | 6 | 8 | 32 |\n",
    "| 4 | 3 | 7 | 11 | 29 |\n",
    "| 8 | 4 | 8 | 14 | 26 |\n",
    "| 16 | 5 | 9 | 17 | 23 |\n",
    "| 32 | 6 | 10 | 20 | 20 |\n",
    "| 64 | 7 | 11 | 23 | 17 |\n",
    "| 128 | 8 | 12 | 26 | 14 |\n",
    "\n",
    "For the numbers in \"continuous proportion\" in the first column (in modern notation, $A$, $Ar$, $Ar^2$, $Ar^3$, *etc.*), *any* of the columns A, B, C, or D contain valid logarithms (again, in modern notation, $a$, $a + d$, $a + 2d$, $a + 3d$, *etc.*).\n",
    "\n",
    "As a consequence, for any four numbers in continuous proportion, it follows that:\n",
    "$$ \\frac{p}{q} = \\frac{r}{s} \\Leftrightarrow L(p) - L(q) = L(r) - L(s), $$\n",
    "\n",
    "where $L( \\cdot )$ denotes the logarithm.  Then, in particular:\n",
    "\n",
    "$$ \\frac{pq}{q} = \\frac{p}{1} \\Leftrightarrow L(pq) - L(q) = L(p) - L(1),$$\n",
    "\n",
    "from which (eventually) both Napier and Briggs determined that $L(1) = 0$ makes things work out right.  Prior to building useful tables of logarithms, Briggs needed to identify one more number.\n",
    "\n",
    "> With the Logarithm of unity decided, in order that we may look for another number, it is the nearest one which will be the most frequently used and certainly the most necessary, and to that number we may assign some convenient logarithm, which shall be both easily remembered and copied out as often as necessary.  Now from all the numbers none seem to be more outstanding or adaped to this task than 10, of which the logarithm shall be 1,000000,00000,0000.\n",
    "\n",
    "Using such a large number avoided the need for decimals, and Briggs published a table of logarithms to 14 places (!!)  (I'm not sure what the deal is with the weird placement of commas in that number...)\n",
    "    "
   ]
  },
  {
   "cell_type": "markdown",
   "id": "cd251abb",
   "metadata": {},
   "source": [
    "## Logarithms and quadrature\n",
    "\n",
    "*Quadrature* is an historical term for determining the area of a figure.  It derives from the ancient Greek interpretation requiring the use of a straight edge and compass to construct a square equal in area to the figure in question (thereby \"squaring\" the figure)...quadrature.  Pierre de Fermat developed some clever methods for the quadrature of what he termed *higher parabolas* and *higher hyperbolas* (curves with the modern forms $y^m = x^n$ and $y^m = x^{-n}$, respectively) in the 1640's.  His results were eventually published in 1659 in the compilation of results with the pithy title\n",
    "> *On the Transformation and the Simplification of Equations of Loci, for the Comparison under all forms of Curvilinear Areas, be it among them, be it with Rectilinear Areas, and at the Same Time On the Use of the Geometric Progression for the Quadrature of Parabolas and Hyberbolas to Infinity*\n",
    "\n",
    "Perhaps it will be better to explain his reasoning using modern terminology rather than in his own rather verbose rhetoric...\n",
    "\n",
    "Consider the 'higher' hyperbola $y = x^{-n}.$  Divide the horizontal axis into intervals forming a geometric sequence (see the figure below) $a$, $ar$, $ar^2$, $ar^3$, $ar^4$, ..., with $r > 1$.  Use the length of each of these intervals as the base of an overestimating rectange, the height of which is\n",
    "\n",
    "$$\\frac{1}{a^n}, \\frac{1}{(ar)^n}, \\frac{1}{(ar^2)^n}, \\frac{1}{(ar^3)^n}, ...$$\n",
    "\n"
   ]
  },
  {
   "cell_type": "code",
   "execution_count": 132,
   "id": "24304a2b",
   "metadata": {},
   "outputs": [
    {
     "data": {
      "image/png": "[encoded data removed]",
      "text/plain": [
       "<Figure size 432x288 with 1 Axes>"
      ]
     },
     "metadata": {
      "needs_background": "light"
     },
     "output_type": "display_data"
    }
   ],
   "source": [
    "# reproduce Figrue 4.2 using matplotlib\n",
    "\n",
    "def hyper(x, n = 1.5):\n",
    "    return 1 / x**n\n",
    "\n",
    "a = 0.1\n",
    "r = 1.8\n",
    "n = 0.5\n",
    "\n",
    "x = linspace(0.9*a, a*r**4.1, 300)\n",
    "plot(x, hyper(x, n))\n",
    "ylim([0., 1.1*1/a**n])\n",
    "xticks = array([0, a, a*r, a*r**2, a*r**3, a*r**4])\n",
    "ax = gca()\n",
    "ax.set_xticks(xticks)\n",
    "newlabels = [\"$0$\", r'$a$', r'$ar$', r'$ar^2$', r'$ar^3$',r'$ar^4$']\n",
    "ax.set_xticklabels(newlabels, fontsize = 14);\n",
    "yticks = array([1/(a*r**2)**n, 1/(a*r)**n, 1/a**n])\n",
    "ax.set_yticks(yticks)\n",
    "ylabels = [r'$\\frac{1}{(ar^2)^n}$', r'$\\frac{1}{(ar)^n}$', r'$\\frac{1}{a^n}$']\n",
    "ax.set_yticklabels(ylabels, fontsize = 16);\n",
    "                  \n",
    "# add dotted lines\n",
    "# vertical:\n",
    "plot([a,a], [0,1/a**n], 'k.:')\n",
    "plot([r*a,r*a,r*a], [0,1/(r*a)**n, 1/a**n], 'k.:')\n",
    "plot([r**2*a,r**2*a], [0,1/(r*a)**n], 'k.:')\n",
    "for nn in [3, 4]:\n",
    "    xval = a*r**nn\n",
    "    plot([xval, xval], [0, 1/xval**n], 'k.:')\n",
    "\n",
    "# horizontal:\n",
    "plot([0,a*r], ones(2)/a**n, 'k.:')\n",
    "plot([0,  a*r, a*r**2], ones(3)/(a*r)**n, 'k.:')\n",
    "plot([0, a*r**2], ones(2)/(a*r**2)**n, 'k.:')\n",
    "xlim(left=0)\n",
    "ax.spines['top'].set_visible(False)\n",
    "ax.spines['right'].set_visible(False)\n",
    "title(\"Fermat's quadrature of the higher hyperbola\");"
   ]
  },
  {
   "cell_type": "markdown",
   "id": "1b3c0d47",
   "metadata": {},
   "source": [
    "Now, add up the areas of these overestimating rectangles:\n",
    "\n",
    "$$\\sum_{i=1}^{\\infty} \\text{width}_i \\times \\text{height}_i = \\sum_{i=1}^{\\infty} \\left(ar^i - ar^{i-1} \\right) \\times \\frac{1}{\\left( ar^{i-1} \\right)^n}$$\n",
    "$$= \\sum_{i=1}^{\\infty} \\frac{ar^{i-1}(r-1)}{a^n(r^{i-1})^n}$$\n",
    "$$= \\frac{r-1}{a^{n-1}} \\sum_{i=1}^{\\infty} \\frac{1}{(r^{i-1})^{n-1}}$$\n",
    "$$= \\frac{r-1}{a^{n-1}} \\sum_{i=1}^{\\infty} \\left( \\frac{1}{r^{n-1}} \\right)^{n-1}$$\n",
    "$$= \\frac{r-1}{a^{n-1}} \\times \\frac{1}{1 - 1/r^{n-1}}$$\n",
    "$$= \\frac{r-1}{a^{n-1}} \\times \\frac{r^{n-1}}{r^{n-1} - 1}$$\n",
    "$$= \\frac{r^{n-1}}{a^{n-1}} \\times \\frac{1}{r^{n-2} + r^{n-3} + ... + 1}.$$\n",
    "\n",
    "where the factorization of $r^{n-1}$ is used in that last step, so as to cancel out the factor $(r-1)$.  With that factor eliminated, now take the limit as $r \\rightarrow 1$ (that is, set $r=1$) to achieve the familiar result (again, using modern notation):\n",
    "\n",
    "$$ \\int_0^{\\infty} \\frac{1}{x^n} dx = \\frac{1}{a^{n-1}} \\times \\frac{1}{n-1}.$$\n",
    "\n",
    "This works great for the higher hyperbola, but note that it fails for the rectangular hyperbola, for which $n = 1$."
   ]
  },
  {
   "cell_type": "markdown",
   "id": "0d5bc7d9",
   "metadata": {},
   "source": [
    "The story of the quadrature of the rectangular hyperbola then passes to the Flemish Jesuit Gregory of Saint Vincent, who published a book in 1647 dedicated to geometry and conic sections, which contained a major section on hyperbola.  "
   ]
  },
  {
   "cell_type": "code",
   "execution_count": 133,
   "id": "6b4548f6",
   "metadata": {},
   "outputs": [
    {
     "data": {
      "image/png": "[encoded data removed]",
      "text/plain": [
       "<Figure size 432x288 with 1 Axes>"
      ]
     },
     "metadata": {
      "needs_background": "light"
     },
     "output_type": "display_data"
    }
   ],
   "source": [
    "# reproduce Figure 4.3 using matplotlib\n",
    "\n",
    "plot(x, hyper(x, n))\n",
    "ylim([0., 1.1*1/a**n])\n",
    "xticks = array([0, a, a*r, a*r**2, a*r**3, a*r**4])\n",
    "ax = gca()\n",
    "ax.set_xticks(xticks)\n",
    "newlabels = [\"A\", \"G\", \"H\", \"I\", \"K\", \"C\"]\n",
    "ax.set_xticklabels(newlabels, fontsize = 14);\n",
    "yticks = array([0, 1/a**n])\n",
    "ax.set_yticks(yticks)\n",
    "ylabels = [\"\", \"B\"]\n",
    "ax.set_yticklabels(ylabels, fontsize = 16);\n",
    "\n",
    "# add dotted vertical lines\n",
    "\n",
    "for nn in range(5):\n",
    "    xval = a*r**nn\n",
    "    plot([xval, xval], [0, 1/xval**n], 'k.:')\n",
    "                  \n",
    "text(a + 0.02, 1/a**n, \"D\")\n",
    "smidge = 0.07\n",
    "text(a*r , 1/(a*r)**n + smidge, \"E\")\n",
    "text(a*r**2 , 1/(a*r**2)**n + smidge, \"L\")\n",
    "text(a*r**3 , 1/(a*r**3)**n + smidge, \"M\")\n",
    "text(a*r**4 , 1/(a*r**4)**n + smidge, \"F\")\n",
    "\n",
    "xlim(left=0)\n",
    "ax.spines['top'].set_visible(False)\n",
    "ax.spines['right'].set_visible(False)\n",
    "#title(\"Fermat's quadrature of the higher hyperbola\");"
   ]
  },
  {
   "cell_type": "markdown",
   "id": "ad648713",
   "metadata": {},
   "source": [
    "In somewhat modern terminology, he found that (refering to figure above), for the rectangular hyperbola with x-axis AC and y-axis AB, and with points A, G, H, I, K, C taken on the x-axis so that they delineate a geometric sequence of distances\n",
    "\n",
    "$$\\frac{\\text{AG}}{\\text{AH}} = \\frac{\\text{AH}}{\\text{AI}} = \\frac{\\text{AI}}{\\text{AK}} = \\frac{\\text{AK}}{\\text{AC}}$$\n",
    "\n",
    "then the corresponding areas under the hyperbola, EHGD, LIHE, MKIL, and FCKM are equal."
   ]
  },
  {
   "cell_type": "code",
   "execution_count": 134,
   "id": "b579e6c5",
   "metadata": {},
   "outputs": [
    {
     "data": {
      "image/png": "[encoded data removed]",
      "text/plain": [
       "<Figure size 432x288 with 1 Axes>"
      ]
     },
     "metadata": {
      "needs_background": "light"
     },
     "output_type": "display_data"
    }
   ],
   "source": [
    "# reproduce Figrue 4.2 using matplotlib\n",
    "a = 0.1\n",
    "r = 1.8\n",
    "n = 1\n",
    "\n",
    "x = linspace(0.9*a, a*r**4.1, 300)\n",
    "plot(x, hyper(x, n))\n",
    "ylim([0., 1.1*1/a**n])\n",
    "xticks = array([0, a, a*r, a*r**2, a*r**3, a*r**4])\n",
    "ax = gca()\n",
    "ax.set_xticks(xticks)\n",
    "newlabels = [\"$0$\", r'$a$', r'$ar$', r'$ar^2$', r'$ar^3$',r'$ar^4$']\n",
    "ax.set_xticklabels(newlabels, fontsize = 12);\n",
    "yticks = array([1/(a*r**2)**n, 1/(a*r)**n, 1/a**n])\n",
    "ax.set_yticks(yticks)\n",
    "ylabels = [r'$\\frac{1}{ar^2}$', r'$\\frac{1}{ar}$', r'$\\frac{1}{a}$']\n",
    "ax.set_yticklabels(ylabels, fontsize = 16);\n",
    "                  \n",
    "# add dotted lines\n",
    "# vertical:\n",
    "plot([a,a], [0,1/a**n], 'k.:')\n",
    "plot([r*a,r*a,r*a], [0,1/(r*a)**n, 1/a**n], 'k.:')\n",
    "plot([r**2*a,r**2*a], [0,1/(r*a)**n], 'k.:')\n",
    "for nn in [3, 4]:\n",
    "    xval = a*r**nn\n",
    "    plot([xval, xval], [0, 1/xval**n], 'k.:')\n",
    "\n",
    "# horizontal:\n",
    "plot([0,a*r], ones(2)/a**n, 'k.:')\n",
    "plot([0,  a*r, a*r**2], ones(3)/(a*r)**n, 'k.:')\n",
    "plot([0, a*r**2], ones(2)/(a*r**2)**n, 'k.:')\n",
    "xlim(left=0)\n",
    "\n",
    "# label areas\n",
    "text(0.5*a*(1 + r)-0.03, 1/(a*r**2)+0.07, r'$A_1$', fontsize=16)\n",
    "text(0.5*a*r*(1 + r)-0.03, 0.5/(a*r**2)+0.07, r'$A_2$', fontsize=16)\n",
    "text(0.5*a*r**2*(1 + r)-0.03, 0.25/(a*r**2)+0.07, r'$A_3$', fontsize=16)\n",
    "text(0.5*a*r**3*(1 + r)-0.03, 0.1/(a*r**2)+0.07, r'$A_1$', fontsize=16)\n",
    "ax.spines['top'].set_visible(False)\n",
    "ax.spines['right'].set_visible(False)\n"
   ]
  },
  {
   "cell_type": "markdown",
   "id": "9f6f5e7d",
   "metadata": {},
   "source": [
    "Refering to the above relabelled plot, the statement becomes one of taking a sequence of $x$ coordinates $a$, $ar$, $ar^2$, $ar^3$, $ar^4, ...$ and thereby delineating the areas $A_1$, $A_2$, $A_3$, $A_4...$ under the rectangular hyperbola $y = \\frac{1}{x}$ (note:  *not* the rectangle areas; those are used in the argument below).\n",
    "\n",
    "To see this, note that each labelled area under the curve is inbetween the areas of two corresponding rectangles:\n",
    "\n",
    "$$ (ar - a) \\frac{1}{ar} < A_1 < (ar - a)\\frac{1}{a}$$\n",
    "$$ (ar^2 - ar) \\frac{1}{ar^2} < A_2 < (ar^2 - ar) \\frac{1}{ar}$$\n",
    "$$ \\vdots $$\n",
    "\n",
    "so\n",
    "\n",
    "$$ \\frac{r-1}{r} < A_1 < r - 1, $$\n",
    "$$ \\frac{r-1}{r} < A_2 < r - 1, $$\n",
    "$$ \\vdots $$\n",
    "\n",
    "Since $r$ is arbirary, it must be that the areas are equal.  So, for at least for finite intervals, as the interval length increases *geometrically*, the area under the rectangular hyperbola increases *arithmeticlly* -- the defining behavior of logarithms.\n",
    "\n",
    "We could, at this point, work out another interesting result.  Suppose we measure the area under the rectangular hyperbola from $x=1$ to a point $x=b$, and we subdivide the interval $[1,b]$ in the geometric sequence $1$, $r$, $r^2$, $r^3$, $ ...r^n = b.$  Since we know from the above that each of these equal components of area are restricted by $ \\frac{r-1}{r} < A < r - 1, $ and the total area therefore satisfies $ n\\frac{r-1}{r} < \\sum A < n(r - 1), $ where $r^n = b \\Leftrightarrow r = b^{1/n}$.  Therefore\n",
    "\n",
    "$$ n\\frac{b^{1/n}-1}{b^{1/n}} < \\sum A < n(b^{1/n} - 1).$$\n",
    "\n",
    "Taking the limit as $n \\rightarrow \\infty,$ the left side becomes equal to the right side, and we get the familiar result:\n",
    "\n",
    "$$ L(b) = \\sum A = \\lim_{n \\rightarrow \\infty} n(b^{1/n} - 1).$$\n",
    "\n",
    "Of course, at this stage, logarithms were not yet considered functions, so this anachronistic result would have to wait until Euler."
   ]
  },
  {
   "cell_type": "markdown",
   "id": "999eeba5",
   "metadata": {},
   "source": [
    "## New Logarithms\n",
    "\n",
    "One of the first people who seems to have grasped the connection between logarithms and exponential functions, as well as the role of different logarithmic bases was the British mathematician William Jones (also apparently responsible for the selection of the symbol $\\pi$ for the ratio of the circumference to the diameter of a circle).  In several papers between 1706 and 1749, he worked out the basic connections between bases, exponents, and logarithms.\n",
    "\n",
    "But of course, much of the detail was not uncovered until the work of the great Swiss mathematician, Leonhard Euler.  Many of the properties were explained in chapters VI and VII of his two-volume 1748 textbook, *Introductio in analysin infinitorum*.\n",
    "\n",
    "A small sample:  After starting with the approximation $a^x \\approx 1 + kx$ by looking at the tangent of $a^x$ at $x=0$, where $k$, of course, depends on $a$, Euler generates (in section 116 of chapater VII) the expansion of a general exponential function:\n",
    "\n",
    "$$ a^z = 1 + \\frac{kz}{1} + \\frac{(kz)^2}{1 \\times 2} + \\frac{(kz)^3}{1 \\times 2 \\times 3} + \\frac{(kz)^4}{1 \\times 2 \\times 3 \\times 4} ...$$\n",
    "\n",
    "Euler goes on to say:\n",
    "\n",
    "> Since we are free to choose the base $a$ for our logarithms, we now choose $a$ in such a way that $k = 1$, then the series above found in 116,\n",
    "$$  1 + \\frac{1}{1} + \\frac{1}{1 \\times 2} + \\frac{1}{1 \\times 2 \\times 3} + \\frac{1}{1 \\times 2 \\times 3 \\times 4} ...$$\n",
    "is equal to $a$.  If the terms are represented as decimal fractions and summed, we obtain the value for $a = 2.71828182845904523536028...$.  When this base is chosen, the logarithms are called natural or hyperbolic.  The latter name is used since the quadrature of a hyperbola can be expressed through these logarithms.  For the sake of brevity, for this number 2.718281828459... we will use the symbol $e$, which will denote the base for the natural hyperbolic loggarithm, which orresponds to the value $k=1$ and $e$ represents the number\n",
    "$$1 + \\frac{1}{1} + \\frac{1}{1 \\times 2} + \\frac{1}{1 \\times 2 \\times 3} + \\frac{1}{1 \\times 2 \\times 3 \\times 4} ...$$\n",
    "\n",
    "Euler's first known use of $e$ for this number appears in a letter written to Christian Goldback, dated 25 Novermber 1731.\n",
    "\n",
    "Logarithms had become functions, and Euler gave the definitions:\n",
    "\n",
    "$$ e^x = \\lim_{n \\rightarrow \\infty} \\left(1 + \\frac{x}{n} \\right)^n \\text{ and } \\ln x = \\lim_{n \\rightarrow \\infty} n(x^{1/n} - 1),$$\n",
    "\n",
    "with the second limit foretold by the geometrical reasoning above."
   ]
  },
  {
   "cell_type": "markdown",
   "id": "22874be6",
   "metadata": {},
   "source": [
    "#### Implementation notes:\n",
    "\n",
    "Only ```matplotlib``` (and of course ```numpy```) are used in this notwebook, as there are no interactive widgets.  The unequal tick marks and labels on the plots were done (for example on the $x$ axis) by using the ```matplotlib``` commands ```ax.set_xticks(xticks)``` and ```ax.set_xticklabels(newlabels, fontsize = 14)```, where ```ax = gca()```, ```xticks``` contains a list of the tick locations, and ```newlabels``` contains a list of the (text) labels."
   ]
  }
 ],
 "metadata": {
  "kernelspec": {
   "display_name": "Python 3",
   "language": "python",
   "name": "python3"
  },
  "language_info": {
   "codemirror_mode": {
    "name": "ipython",
    "version": 3
   },
   "file_extension": ".py",
   "mimetype": "text/x-python",
   "name": "python",
   "nbconvert_exporter": "python",
   "pygments_lexer": "ipython3",
   "version": "3.8.8"
  }
 },
 "nbformat": 4,
 "nbformat_minor": 5
}
